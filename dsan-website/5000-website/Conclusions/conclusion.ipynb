{
  "cells": [
    {
      "cell_type": "markdown",
      "metadata": {},
      "source": [
        "---\n",
        "title: \"Conclusions\"\n",
        "---"
      ]
    },
    {
      "cell_type": "markdown",
      "metadata": {},
      "source": [
        "# Conclusion"
      ]
    },
    {
      "cell_type": "markdown",
      "metadata": {},
      "source": [
        "![](stock.png){fig-align='center'}"
      ]
    },
    {
      "cell_type": "markdown",
      "metadata": {},
      "source": [
        "\n",
        "Upon visual examination of the comparative line graph depicting stock price movements alongside the cumulative daily sentiment, I was able to conclude the following:\n",
        "\n",
        "1. The cumulative sentiment over the observed period presents an ascending trajectory, suggesting a progressive build-up of positive sentiment.\n",
        "\n",
        "2. The stock price movement demonstrates marked volatility, characterized by pronounced rises and declines within the timeframe in question. This pattern of fluctuation does not appear to mirror the more gradual trend exhibited by the sentiment line.\n",
        "\n",
        "3. A direct and consistent correlation between sentiment and stock price movement is not readily apparent from the graphical representation. Instances where a surge in positive sentiment coincides with an uptick in stock prices are sporadic and do not establish a predictable pattern.\n",
        "\n",
        "4. The graph does not convincingly display a lag effect where sentiment shifts could be seen as preceding or predicting stock price movements.\n",
        "\n",
        "5. The independent nature of the fluctuations observed in both sentiment and stock price suggests that while sentiment may exert some influence on stock prices, it is not the predominant factor. It is plausible that stock price movements are subject to a broader spectrum of influences beyond the scope of market sentiment as captured by the dataset.\n",
        "\n",
        "6. The absence of a clear, direct relationship between sentiment and stock prices in the dataset implies that additional variables and external factors are likely at play in determining stock price dynamics. These may include economic indicators, corporate financial performance, geopolitical events, and broader market trends.\n",
        "\n",
        "7. Given the complexity of financial markets and the multitude of factors affecting stock prices, a more granular approach to analysis is warranted. This approach should encompass a broader dataset, potentially including trading volumes, financial news analysis, and economic indicators. Additionally, further statistical examination, such as correlation or regression analysis, may be employed to quantify the relationship between sentiment and stock price movements more precisely.\n",
        "\n",
        "In conclusion, the preliminary analysis does not substantiate a robust, standalone impact of market sentiment on stock prices within the examined period. While sentiment is an integral aspect of market dynamics, its role as a potential predictor or influencer of stock prices necessitates a more nuanced and multifaceted investigation to fully understand its impact within the intricate mosaic of market behavior.\n",
        "For future improvement, improving Labelling of sentiment through RoBERTa with Hugging Face API would be a very significant step to further improve this approach."
      ]
    }
  ],
  "metadata": {
    "kernelspec": {
      "display_name": "Python 3 (ipykernel)",
      "language": "python",
      "name": "python3"
    }
  },
  "nbformat": 4,
  "nbformat_minor": 4
}
